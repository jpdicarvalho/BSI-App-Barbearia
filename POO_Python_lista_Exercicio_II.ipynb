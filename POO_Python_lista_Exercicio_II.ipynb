{
  "cells": [
    {
      "cell_type": "markdown",
      "metadata": {
        "id": "view-in-github",
        "colab_type": "text"
      },
      "source": [
        "<a href=\"https://colab.research.google.com/github/jpdicarvalho/BSI-App-Barbearia/blob/main/POO_Python_lista_Exercicio_II.ipynb\" target=\"_parent\"><img src=\"https://colab.research.google.com/assets/colab-badge.svg\" alt=\"Open In Colab\"/></a>"
      ]
    },
    {
      "cell_type": "markdown",
      "source": [
        "#**Exercicíos de Programação Orientada a Objetos com Python - Lista II**"
      ],
      "metadata": {
        "id": "BvPyjbkrskqC"
      },
      "id": "BvPyjbkrskqC"
    },
    {
      "cell_type": "markdown",
      "source": [
        "#**Author: João Pedro Braga de Carvalho**"
      ],
      "metadata": {
        "id": "E9u4O3VBtRWl"
      },
      "id": "E9u4O3VBtRWl"
    },
    {
      "cell_type": "markdown",
      "id": "62c85c7e",
      "metadata": {
        "id": "62c85c7e"
      },
      "source": [
        "### As questões a seguir abordam aspectos sobre herança, polimorfismo, métodos e atributos estáticos em Python. Sendo assim, foram escolhidos seis temas para desenvolvimentos dos exemplos:"
      ]
    },
    {
      "cell_type": "markdown",
      "id": "38a4655d",
      "metadata": {
        "id": "38a4655d"
      },
      "source": [
        "### **1. Criptomoedas**"
      ]
    },
    {
      "cell_type": "markdown",
      "id": "0623ddda",
      "metadata": {
        "id": "0623ddda"
      },
      "source": [
        "Questão 1:\n",
        "Desenvolva uma classe Cryptocurrency que represente uma criptomoeda, com atributos como nome, preço atual e volume de mercado. Implemente métodos para atualizar o preço da criptomoeda e para obter o volume de mercado atual. Utilize um atributo estático para armazenar a quantidade total de criptomoedas."
      ]
    },
    {
      "cell_type": "code",
      "execution_count": 47,
      "id": "e518cc84",
      "metadata": {
        "colab": {
          "base_uri": "https://localhost:8080/"
        },
        "id": "e518cc84",
        "outputId": "85445dfa-251a-42ea-8d91-217285ec6186"
      },
      "outputs": [
        {
          "output_type": "stream",
          "name": "stdout",
          "text": [
            "Total de criptomoedas: 2\n",
            "Preço atual do Bitcoin: 50000\n",
            "Volume de mercado do Ethereum: 50000000\n",
            "Novo preço do Bitcoin: 55000\n"
          ]
        }
      ],
      "source": [
        "class Cryptocurrency:\n",
        "    totalCryptocurrencies = 0\n",
        "\n",
        "    def __init__(self, name, currentPrice, marketVolume):\n",
        "        self.name = name\n",
        "        self.currentPrice = currentPrice\n",
        "        self.marketVolume = marketVolume\n",
        "        Cryptocurrency.totalCryptocurrencies += 1\n",
        "\n",
        "    def updatePrice(self, newPrice):\n",
        "        self.currentPrice = newPrice\n",
        "\n",
        "    def getMarketVolume(self):\n",
        "        return self.marketVolume\n",
        "\n",
        "# Exemplo de uso:\n",
        "btc = Cryptocurrency(\"Bitcoin\", 50000, 1000000000)\n",
        "eth = Cryptocurrency(\"Ethereum\", 2000, 50000000)\n",
        "\n",
        "print(\"Total de criptomoedas:\", Cryptocurrency.totalCryptocurrencies)\n",
        "print(\"Preço atual do Bitcoin:\", btc.currentPrice)\n",
        "print(\"Volume de mercado do Ethereum:\", eth.getMarketVolume())\n",
        "\n",
        "btc.updatePrice(55000)\n",
        "print(\"Novo preço do Bitcoin:\", btc.currentPrice)"
      ]
    },
    {
      "cell_type": "markdown",
      "id": "d5199b54",
      "metadata": {
        "id": "d5199b54"
      },
      "source": [
        "Questão 2:\n",
        "Crie uma classe PortfolioCrypto para representar um portfólio de investimentos em criptomoedas. Implemente um método estático para calcular o valor total do portfólio, levando em consideração o preço atual de cada criptomoeda e a quantidade de cada uma delas."
      ]
    },
    {
      "cell_type": "code",
      "execution_count": 48,
      "id": "32bc5141",
      "metadata": {
        "colab": {
          "base_uri": "https://localhost:8080/"
        },
        "id": "32bc5141",
        "outputId": "aae7657e-ae04-4b03-f95d-049cd6b9f3f6"
      },
      "outputs": [
        {
          "output_type": "stream",
          "name": "stdout",
          "text": [
            "Valor total do portfólio: 110000\n"
          ]
        }
      ],
      "source": [
        "class PortfolioCrypto:\n",
        "    @staticmethod\n",
        "    def calculate_portfolio_value(cryptocurrencies):\n",
        "        total_value = 0\n",
        "        for crypto in cryptocurrencies:\n",
        "            total_value += crypto.current_price * crypto.quantity\n",
        "        return total_value\n",
        "\n",
        "# Exemplo de uso:\n",
        "class Cryptocurrency:\n",
        "    def __init__(self, name, current_price, quantity):\n",
        "        self.name = name\n",
        "        self.current_price = current_price\n",
        "        self.quantity = quantity\n",
        "\n",
        "btc = Cryptocurrency(\"Bitcoin\", 50000, 2)\n",
        "eth = Cryptocurrency(\"Ethereum\", 2000, 5)\n",
        "\n",
        "portfolio = [btc, eth]\n",
        "\n",
        "portfolio_value = PortfolioCrypto.calculate_portfolio_value(portfolio)\n",
        "print(\"Valor total do portfólio:\", portfolio_value)"
      ]
    },
    {
      "cell_type": "markdown",
      "id": "f6d81e03",
      "metadata": {
        "id": "f6d81e03"
      },
      "source": [
        "### **2. Mercado de Ações**"
      ]
    },
    {
      "cell_type": "markdown",
      "id": "07af163c",
      "metadata": {
        "id": "07af163c"
      },
      "source": [
        "Questão 3:\n",
        "Crie uma classe base Stock para representar ações de empresas, com atributos como nome da empresa, preço atual e setor. Implemente métodos para atualizar o preço da ação e obter informações sobre o setor. Utilize um atributo estático para armazenar o número total de ações."
      ]
    },
    {
      "cell_type": "code",
      "execution_count": 49,
      "id": "487bdb4b",
      "metadata": {
        "colab": {
          "base_uri": "https://localhost:8080/"
        },
        "id": "487bdb4b",
        "outputId": "57b0b83b-97ff-42f4-9a70-ae6426e9357d"
      },
      "outputs": [
        {
          "output_type": "stream",
          "name": "stdout",
          "text": [
            "Total de Ações: 3\n",
            "Setor da Compania: Drinks\n",
            "Novo preço da ação da Compania Shelby: 110\n"
          ]
        }
      ],
      "source": [
        "class Stock:\n",
        "  totalStocks = 3\n",
        "\n",
        "  def __init__(self, companyName, currentPrice, sector):\n",
        "    self.companyName = companyName\n",
        "    self.currentPrice = currentPrice\n",
        "    self.sector = sector\n",
        "\n",
        "  def updatePrice(self, newPrice):\n",
        "    self.currentPrice = newPrice\n",
        "\n",
        "  def getSector(self):\n",
        "    return self.sector\n",
        "\n",
        "stock1 = Stock(\"Compania Shelby\", 100, \"Drinks\")\n",
        "stock2 = Stock(\"Compania Al Capone\", 200, \"Cars\")\n",
        "\n",
        "print(\"Total de Ações:\", Stock.totalStocks)\n",
        "print(\"Setor da Compania:\", stock1.getSector())\n",
        "\n",
        "stock1.updatePrice(110)\n",
        "print(\"Novo preço da ação da Compania Shelby:\", stock1.currentPrice)\n"
      ]
    },
    {
      "cell_type": "markdown",
      "id": "958766bf",
      "metadata": {
        "id": "958766bf"
      },
      "source": [
        "Questão 4:\n",
        "Desenvolva uma classe PortfolioStock para representar um portfólio de investimentos em ações. Implemente um método estático para calcular o valor total do portfólio, considerando o preço atual de cada ação e a quantidade de cada uma delas."
      ]
    },
    {
      "cell_type": "code",
      "execution_count": 50,
      "id": "5167d331",
      "metadata": {
        "id": "5167d331",
        "colab": {
          "base_uri": "https://localhost:8080/"
        },
        "outputId": "d2bf79f4-f827-4db9-b371-c33bf7f65d99"
      },
      "outputs": [
        {
          "output_type": "stream",
          "name": "stdout",
          "text": [
            "Valor total do portifolio de ações: 25000.0\n"
          ]
        }
      ],
      "source": [
        "class PortfolioStock:\n",
        "  @staticmethod\n",
        "  def calculate_portfolio_value(stocks):\n",
        "    totalValue = 0\n",
        "    for stock in stocks:\n",
        "      totalValue += stock.currentPrice * stock.quantity\n",
        "    return totalValue\n",
        "\n",
        "# Example of usage:\n",
        "class Stock:\n",
        "    def __init__(self, companyName, currentPrice, quantity):\n",
        "        self.companyName = companyName\n",
        "        self.currentPrice = currentPrice\n",
        "        self.quantity = quantity\n",
        "\n",
        "stock1 = Stock(\"Apple\", 500.0, 10)\n",
        "stock2 = Stock(\"Amazon\", 4000.0, 5)\n",
        "\n",
        "portfolio = [stock1, stock2]\n",
        "\n",
        "portfolio_value = PortfolioStock.calculate_portfolio_value(portfolio)\n",
        "print(\"Valor total do portifolio de ações:\", portfolio_value)\n"
      ]
    },
    {
      "cell_type": "markdown",
      "id": "cb63db88",
      "metadata": {
        "id": "cb63db88"
      },
      "source": [
        "### **3. Consórcio de Automóveis**"
      ]
    },
    {
      "cell_type": "markdown",
      "id": "447626f4",
      "metadata": {
        "id": "447626f4"
      },
      "source": [
        "Questão 5:\n",
        "Desenvolva uma classe ParticipanteConsorcio que represente um participante de um consórcio de automóveis, com atributos como nome e valor das parcelas mensais. Implemente um método estático para calcular o valor total das parcelas de todos os participantes."
      ]
    },
    {
      "cell_type": "code",
      "execution_count": 51,
      "id": "abb6d80d",
      "metadata": {
        "id": "abb6d80d",
        "colab": {
          "base_uri": "https://localhost:8080/"
        },
        "outputId": "2c69e436-ad32-4ba5-f78e-fe1764f7d545"
      },
      "outputs": [
        {
          "output_type": "stream",
          "name": "stdout",
          "text": [
            "Valor total das 60 parcelas de 500 reias: R$ 30000\n"
          ]
        }
      ],
      "source": [
        "class ParticipanteConsorcio:\n",
        "  totalInstallments = 60\n",
        "\n",
        "  @staticmethod\n",
        "  def calcValueTotalInstallments(valueInstallments):\n",
        "      valueInstallments = valueInstallments\n",
        "      return valueInstallments * ParticipanteConsorcio.totalInstallments\n",
        "\n",
        "  def __init__(self, name, valueInstallments):\n",
        "    self.name = name\n",
        "    self.valueInstallments = valueInstallments\n",
        "\n",
        "\n",
        "participante1 = ParticipanteConsorcio(\"João\", 500)\n",
        "participante2 = ParticipanteConsorcio(\"Pedro\", 300)\n",
        "\n",
        "print(\"Valor total das 60 parcelas de 500 reias: R$\", participante1.calcValueTotalInstallments(participante1.valueInstallments))"
      ]
    },
    {
      "cell_type": "markdown",
      "id": "fc05d3ee",
      "metadata": {
        "id": "fc05d3ee"
      },
      "source": [
        "Questão 6:\n",
        "Crie uma classe GrupoConsorcio para representar um grupo de consórcio de automóveis. Implemente um método estático para calcular o valor total de contribuições mensais do grupo."
      ]
    },
    {
      "cell_type": "code",
      "execution_count": 52,
      "id": "bf24d63b",
      "metadata": {
        "id": "bf24d63b",
        "colab": {
          "base_uri": "https://localhost:8080/"
        },
        "outputId": "56fab78e-0440-45eb-e891-e84094a4e5e2"
      },
      "outputs": [
        {
          "output_type": "stream",
          "name": "stdout",
          "text": [
            "Valor total das contribuições mensais do grupo: 48000\n",
            "Nome do participante: João\n",
            "Valor total das 60 parcelas de 500 reais: 30000\n",
            "Nome do participante: Pedro\n",
            "Valor total das 60 parcelas de 300 reais: 18000\n"
          ]
        }
      ],
      "source": [
        "class GrupoConsorcio:\n",
        "    def __init__(self, groupParticipants=[]):\n",
        "        self.groupParticipants = groupParticipants\n",
        "\n",
        "    @staticmethod\n",
        "    def calculate_total_contributions(groupParticipants):\n",
        "        total_contributions = 0\n",
        "        for participant in groupParticipants:\n",
        "            total_contributions += participant.valueInstallments * ParticipanteConsorcio.totalInstallments\n",
        "        return total_contributions\n",
        "\n",
        "\n",
        "participante1 = ParticipanteConsorcio(\"João\", 500)\n",
        "participante2 = ParticipanteConsorcio(\"Pedro\", 300)\n",
        "\n",
        "grupPart = [participante1, participante2]\n",
        "\n",
        "grup = GrupoConsorcio(grupPart)\n",
        "\n",
        "total_contributions = GrupoConsorcio.calculate_total_contributions(grup.groupParticipants)\n",
        "print(\"Valor total das contribuições mensais do grupo:\", total_contributions)\n",
        "\n",
        "for participante in grup.groupParticipants:\n",
        "    print(\"Nome do participante:\", participante.name)\n",
        "    print(\"Valor total das 60 parcelas de\", participante.valueInstallments, \"reais:\", participante.calcValueTotalInstallments(participante.valueInstallments))"
      ]
    },
    {
      "cell_type": "markdown",
      "id": "95dc2f12",
      "metadata": {
        "id": "95dc2f12"
      },
      "source": [
        "### **4. Leilões de Imóveis**"
      ]
    },
    {
      "cell_type": "markdown",
      "id": "b71b1374",
      "metadata": {
        "id": "b71b1374"
      },
      "source": [
        "Questão 7:\n",
        "Implemente uma classe ImovelLeilao para representar um imóvel leiloado, com atributos como endereço e lance mínimo. Implemente um método estático para calcular o lance total mínimo necessário para arrematar todos os imóveis."
      ]
    },
    {
      "cell_type": "code",
      "execution_count": 53,
      "id": "c4adfb05",
      "metadata": {
        "id": "c4adfb05",
        "colab": {
          "base_uri": "https://localhost:8080/"
        },
        "outputId": "1bcb1a2b-d4e8-4ae0-f6c2-a81adb2e7e49"
      },
      "outputs": [
        {
          "output_type": "stream",
          "name": "stdout",
          "text": [
            "Lance total mínimo necessário para arrematar todos os imóveis: 750000\n"
          ]
        }
      ],
      "source": [
        "class ImovelLeilao:\n",
        "    totalProperties = 0\n",
        "\n",
        "    def __init__(self, adress, lanceMinimo):\n",
        "        self.adress = adress\n",
        "        self.lanceMinimo = lanceMinimo\n",
        "        ImovelLeilao.totalProperties += 1\n",
        "\n",
        "    @staticmethod\n",
        "    def calcTotalMinimimBid(properties):\n",
        "        totalMinimuBid = 0\n",
        "        for property in properties:\n",
        "            totalMinimuBid += property.lanceMinimo\n",
        "        return totalMinimuBid\n",
        "\n",
        "# Exemplo de uso:\n",
        "property1 = ImovelLeilao(\"Rua Jorge Vasconcelos, 123\", 250000)\n",
        "property2 = ImovelLeilao(\"Rua Magalhães Barata, 456\", 150000)\n",
        "property3 = ImovelLeilao(\"Rua Marechal Rondon, 789\", 350000)\n",
        "\n",
        "properties = [property1, property2, property3]\n",
        "\n",
        "totalMinimuBid = ImovelLeilao.calcTotalMinimimBid(properties)\n",
        "print(\"Lance total mínimo necessário para arrematar todos os imóveis:\", totalMinimuBid)"
      ]
    },
    {
      "cell_type": "markdown",
      "id": "8d3b147a",
      "metadata": {
        "id": "8d3b147a"
      },
      "source": [
        "Questão 8:\n",
        "Desenvolva uma classe LeilaoImoveis para representar um leilão de imóveis. Implemente um método estático para calcular o valor total dos lances dados durante o leilão."
      ]
    },
    {
      "cell_type": "code",
      "execution_count": 54,
      "id": "e4716531",
      "metadata": {
        "id": "e4716531",
        "colab": {
          "base_uri": "https://localhost:8080/"
        },
        "outputId": "632be2cd-70ae-40bd-f083-25a037d38d93"
      },
      "outputs": [
        {
          "output_type": "stream",
          "name": "stdout",
          "text": [
            "Valor total dos lances dados durante o leilão de imóveis: 930000\n"
          ]
        }
      ],
      "source": [
        "class LeilaoImoveis:\n",
        "  def __init__(self, Bids=[]):\n",
        "    self.Bids = Bids\n",
        "\n",
        "  @staticmethod\n",
        "  def calcValueTotalBid(Bids):\n",
        "    totalBids = 0\n",
        "    for bid in Bids:\n",
        "      totalBids += bid\n",
        "    return totalBids\n",
        "\n",
        "Bids = [250000, 150000, 350000, 180000]\n",
        "\n",
        "allBids = LeilaoImoveis.calcValueTotalBid(Bids)\n",
        "print(\"Valor total dos lances dados durante o leilão de imóveis:\", allBids)"
      ]
    },
    {
      "cell_type": "markdown",
      "id": "aa58eee7",
      "metadata": {
        "id": "aa58eee7"
      },
      "source": [
        "### **5. NFT (Tokens Não Fungíveis)**"
      ]
    },
    {
      "cell_type": "markdown",
      "id": "acdeec20",
      "metadata": {
        "id": "acdeec20"
      },
      "source": [
        "Questão 9: Crie uma classe NFT para representar um token não fungível, com atributos como nome e valor. Implemente um método estático para calcular o valor total de todos os NFTs."
      ]
    },
    {
      "cell_type": "code",
      "execution_count": 55,
      "id": "1a5b2557",
      "metadata": {
        "id": "1a5b2557",
        "colab": {
          "base_uri": "https://localhost:8080/"
        },
        "outputId": "41df2724-ff0d-4788-f95a-037862913f6b"
      },
      "outputs": [
        {
          "output_type": "stream",
          "name": "stdout",
          "text": [
            "Valor total de todos os NFTs: 18480\n"
          ]
        }
      ],
      "source": [
        "class NFT:\n",
        "  totalNFTs = 0\n",
        "\n",
        "  def __init__(self, name, value):\n",
        "    self.name = name\n",
        "    self.value = value\n",
        "    NFT.totalNFTs += 1\n",
        "\n",
        "  @staticmethod\n",
        "  def calcValueTotal(NFTs):\n",
        "    total = 0\n",
        "    for ntfs in NFTs:\n",
        "      total += ntfs.value\n",
        "    return total\n",
        "\n",
        "nft1 = NFT(\"CryptoPunk\", 3240)\n",
        "nft2 = NFT(\"Decentraland\", 5460)\n",
        "nft3 = NFT(\"Axie Infinity\", 9780)\n",
        "\n",
        "NFTs = [nft1, nft2, nft3]\n",
        "\n",
        "valueTotalNFTs = NFT.calcValueTotal(NFTs)\n",
        "print(\"Valor total de todos os NFTs:\", valueTotalNFTs)"
      ]
    },
    {
      "cell_type": "markdown",
      "source": [],
      "metadata": {
        "id": "zBZtCepOlWZ0"
      },
      "id": "zBZtCepOlWZ0"
    },
    {
      "cell_type": "markdown",
      "id": "803695d1",
      "metadata": {
        "id": "803695d1"
      },
      "source": [
        "Questão 10:\n",
        "Desenvolva uma classe CarteiraNFT para representar a carteira de um usuário de NFTs. Implemente um método estático para calcular o valor total da carteira de NFTs."
      ]
    },
    {
      "cell_type": "code",
      "execution_count": 56,
      "id": "cb3013aa",
      "metadata": {
        "id": "cb3013aa",
        "colab": {
          "base_uri": "https://localhost:8080/"
        },
        "outputId": "f70c54a2-8dee-475e-8b3f-413f0f0ff0dc"
      },
      "outputs": [
        {
          "output_type": "stream",
          "name": "stdout",
          "text": [
            "Valor total da carteira de NFTs: 18480\n"
          ]
        }
      ],
      "source": [
        "class NFT:\n",
        "  def __init__(self, name, value):\n",
        "    self.name = name\n",
        "    self.value = value\n",
        "\n",
        "class CarteiraNFT:\n",
        "  @staticmethod\n",
        "  def calcValueTotalCarteira(carteira):\n",
        "      valueTotalCarteira = 0\n",
        "      for nft in carteira:\n",
        "        valueTotalCarteira += nft.value\n",
        "      return valueTotalCarteira\n",
        "\n",
        "\n",
        "  def __init__(self, carteira=[]):\n",
        "      self.carteira = carteira\n",
        "\n",
        "nft1 = NFT(\"CryptoPunk\", 3240)\n",
        "nft2 = NFT(\"Decentraland\", 5460)\n",
        "nft3 = NFT(\"Axie Infinity\", 9780)\n",
        "\n",
        "carteira = [nft1, nft2, nft3]\n",
        "\n",
        "valueTotal = CarteiraNFT.calcValueTotalCarteira(carteira)\n",
        "print(\"Valor total da carteira de NFTs:\", valueTotal)"
      ]
    },
    {
      "cell_type": "markdown",
      "id": "9daac4fc",
      "metadata": {
        "id": "9daac4fc"
      },
      "source": [
        "### **6. Direitos Autorais**"
      ]
    },
    {
      "cell_type": "markdown",
      "id": "e4c0db5e",
      "metadata": {
        "id": "e4c0db5e"
      },
      "source": [
        "Questão 11:\n",
        "Desenvolva uma classe ObraAutoral para representar uma obra protegida por direitos autorais, com atributos como título e valor dos direitos autorais. Implemente um método estático para calcular o valor total de todos os direitos autorais das obras."
      ]
    },
    {
      "cell_type": "code",
      "execution_count": 57,
      "id": "2db75f0a",
      "metadata": {
        "id": "2db75f0a",
        "colab": {
          "base_uri": "https://localhost:8080/"
        },
        "outputId": "6206f8d7-4fbd-400e-a46c-497f37ae9ac3"
      },
      "outputs": [
        {
          "output_type": "stream",
          "name": "stdout",
          "text": [
            "Valor total dos direitos autorais de todas as obras: 37000\n"
          ]
        }
      ],
      "source": [
        "class ObraAutoral:\n",
        "  totalObras = 0\n",
        "\n",
        "  def __init__(self, tittle, Copyright):\n",
        "    self.tittle = tittle\n",
        "    self.Copyright = Copyright\n",
        "    ObraAutoral.totalObras += 1\n",
        "\n",
        "  @staticmethod\n",
        "  def calcValueTotalCopyright(obras):\n",
        "    total = 0\n",
        "    for obra in obras:\n",
        "      total += obra.Copyright\n",
        "    return total\n",
        "\n",
        "obra1 = ObraAutoral(\"Dom Casmurro\", 10000)\n",
        "obra2 = ObraAutoral(\"Memórias Póstumas de Brás Cubas\", 12000)\n",
        "obra3 = ObraAutoral(\"Grande Sertão: Veredas\", 15000)\n",
        "\n",
        "obras = [obra1, obra2, obra3]\n",
        "\n",
        "\n",
        "valueTotalCopyright = ObraAutoral.calcValueTotalCopyright(obras)\n",
        "print(\"Valor total dos direitos autorais de todas as obras:\", valueTotalCopyright)"
      ]
    },
    {
      "cell_type": "markdown",
      "id": "5d546993",
      "metadata": {
        "id": "5d546993"
      },
      "source": [
        "Questão 12:\n",
        "Crie uma classe ColecaoObras para representar uma coleção de obras protegidas por direitos autorais. Implemente um método estático para calcular o valor total da coleção, considerando o valor dos direitos autorais de cada obra."
      ]
    },
    {
      "cell_type": "code",
      "execution_count": 58,
      "id": "7c27602e",
      "metadata": {
        "id": "7c27602e",
        "colab": {
          "base_uri": "https://localhost:8080/"
        },
        "outputId": "f1ca2cb6-bbdf-4a22-b0c1-a3b21ff35d30"
      },
      "outputs": [
        {
          "output_type": "stream",
          "name": "stdout",
          "text": [
            "Valor total da coleção: 37000\n"
          ]
        }
      ],
      "source": [
        "class ObraAutoral:\n",
        "  totalObras = 0\n",
        "\n",
        "  def __init__(self, tittle, Copyright):\n",
        "    self.tittle = tittle\n",
        "    self.Copyright = Copyright\n",
        "    ObraAutoral.totalObras += 1\n",
        "\n",
        "class ColecaoObras:\n",
        "  @staticmethod\n",
        "  def calcValueTotalColecao(colecao):\n",
        "    total = 0\n",
        "    for valueCopyright in colecao:\n",
        "      total += valueCopyright\n",
        "    return total\n",
        "\n",
        "obra1 = ObraAutoral(\"Dom Casmurro\", 10000)\n",
        "obra2 = ObraAutoral(\"Memórias Póstumas de Brás Cubas\", 12000)\n",
        "obra3 = ObraAutoral(\"Grande Sertão: Veredas\", 15000)\n",
        "\n",
        "colecao = [obra1.Copyright, obra2.Copyright, obra3.Copyright]\n",
        "\n",
        "valueTotalColecao = ColecaoObras.calcValueTotalColecao(colecao)\n",
        "print(\"Valor total da coleção:\", valueTotalColecao)"
      ]
    }
  ],
  "metadata": {
    "kernelspec": {
      "display_name": "Python 3 (ipykernel)",
      "language": "python",
      "name": "python3"
    },
    "language_info": {
      "codemirror_mode": {
        "name": "ipython",
        "version": 3
      },
      "file_extension": ".py",
      "mimetype": "text/x-python",
      "name": "python",
      "nbconvert_exporter": "python",
      "pygments_lexer": "ipython3",
      "version": "3.11.3"
    },
    "colab": {
      "provenance": [],
      "include_colab_link": true
    }
  },
  "nbformat": 4,
  "nbformat_minor": 5
}