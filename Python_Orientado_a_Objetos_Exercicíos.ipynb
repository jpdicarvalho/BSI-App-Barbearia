{
  "nbformat": 4,
  "nbformat_minor": 0,
  "metadata": {
    "colab": {
      "provenance": [],
      "authorship_tag": "ABX9TyPBy++eNh1mpW5UHjb22omZ",
      "include_colab_link": true
    },
    "kernelspec": {
      "name": "python3",
      "display_name": "Python 3"
    },
    "language_info": {
      "name": "python"
    }
  },
  "cells": [
    {
      "cell_type": "markdown",
      "metadata": {
        "id": "view-in-github",
        "colab_type": "text"
      },
      "source": [
        "<a href=\"https://colab.research.google.com/github/jpdicarvalho/BSI-App-Barbearia/blob/main/Python_Orientado_a_Objetos_Exercic%C3%ADos.ipynb\" target=\"_parent\"><img src=\"https://colab.research.google.com/assets/colab-badge.svg\" alt=\"Open In Colab\"/></a>"
      ]
    },
    {
      "cell_type": "markdown",
      "source": [
        "#Exercicíos de Programação Orientada a Objetos com Python\n",
        "\n",
        "##**Author**: João Pedro Braga de Carvalho\n",
        "---"
      ],
      "metadata": {
        "id": "tTqVe5K-5dCv"
      }
    },
    {
      "cell_type": "markdown",
      "source": [
        "## **Problema - 1**\n",
        "### Crie uma classe Bola cujos atributos são cor e raio. Crie um método que imprime a cor da bola. Crie um método para calcular a área dessa bola. Crie um método para calcular o volume da bola. Crie um objeto dessa classe e calcule a área e o volume, imprimindo ambos em seguida.\n",
        "- **Área da esfera** = 4 x 3.14 x R x R\n",
        "- **Volume da esfera** = 4.3,14 X R X R X R/3"
      ],
      "metadata": {
        "id": "Vn17f8IO63tE"
      }
    },
    {
      "cell_type": "code",
      "execution_count": null,
      "metadata": {
        "colab": {
          "base_uri": "https://localhost:8080/"
        },
        "id": "5fEFHiYAN0NE",
        "outputId": "c7e72600-664f-497f-fdbb-705495b1c537"
      },
      "outputs": [
        {
          "output_type": "stream",
          "name": "stdout",
          "text": [
            "Cor da bola: Preta\n",
            "Área da Bola: 615.7521601035994\n",
            "Volume da Bola: 1436.7550402417319\n"
          ]
        }
      ],
      "source": [
        "import math # Importa o módulo de matemática para usar funções matemáticas como pi\n",
        "\n",
        "# Define a classe Bola\n",
        "class Bola:\n",
        "\n",
        "    def __init__(self, cor, raio): # Método especial de inicialização da classe\n",
        "        self.cor = cor # Atributo cor da bola\n",
        "        self.raio = raio # Atributo raio da bola\n",
        "\n",
        "    def imprimir_cor(self): # Método para imprimir a cor da bola\n",
        "        print(\"Cor da bola:\", self.cor)\n",
        "\n",
        "    def calcular_Area(self): # Método para calcular a área da bola\n",
        "        area = 4 * math.pi * self.raio ** 2 # Fórmula da área de uma esfera\n",
        "        return area # Retorna a área calculada\n",
        "\n",
        "    def calcular_Volume(self): # Método para calcular o volume da bola\n",
        "        volume = (4/3) * math.pi * self.raio ** 3 # Fórmula do volume de uma esfera\n",
        "        return volume # Retorna o volume calculado\n",
        "\n",
        "\n",
        "# Criando um objeto da classe Bola\n",
        "objBola = Bola(\"Preta\", 7) # Instancia um objeto da classe Bola com cor vermelha e raio 7\n",
        "\n",
        "# Calculando área e volume\n",
        "area = objBola.calcular_Area() # Chama o método calcularArea() da instância bola\n",
        "volume = objBola.calcular_Volume() # Chama o método calcularVolume() da instância bola\n",
        "\n",
        "#Imprimindo a cor da Bola\n",
        "objBola.imprimir_cor()\n",
        "\n",
        "# Imprimindo área e volume\n",
        "print(\"Área da Bola:\", area) # Imprime a área calculada da bola\n",
        "print(\"Volume da Bola:\", volume) # Imprime o volume calculado da bola"
      ]
    },
    {
      "cell_type": "markdown",
      "source": [
        "---\n",
        "## **Problema - 2**\n",
        "### Crie uma classe Retangulo cujos atributos são lado_a e lado_b. Crie um método para calcular a área desse retângulo. Crie um objeto dessa classe e calcule a área e a imprima em seguida.*texto em itálico*"
      ],
      "metadata": {
        "id": "XSXEEKOL80Tv"
      }
    },
    {
      "cell_type": "code",
      "source": [
        "import math\n",
        "\n",
        "class Retangulo:\n",
        "\n",
        "    def __init__(self, lado_a, lado_b):\n",
        "        self.lado_a = lado_a\n",
        "        self.lado_b = lado_b\n",
        "\n",
        "    def calcularArea(self):\n",
        "        return self.lado_a * self.lado_b\n",
        "\n",
        "#Passando os valores para calcular a area\n",
        "comp_lado_a = 5\n",
        "larg_lado_b = 5\n",
        "\n",
        "#Criando objeto da classe retângulo\n",
        "objRetangulo = Retangulo(comp_lado_a, larg_lado_b)\n",
        "\n",
        "#Calculando a área do retangulo\n",
        "area = objRetangulo.calcularArea()\n",
        "\n",
        "#Imprimindo a área do retangulo\n",
        "print(\"Área do retângulo:\", area)\n"
      ],
      "metadata": {
        "id": "HtIZn6D1ZwJr",
        "colab": {
          "base_uri": "https://localhost:8080/"
        },
        "outputId": "9879a832-993a-4000-8e51-e92796777529"
      },
      "execution_count": 18,
      "outputs": [
        {
          "output_type": "stream",
          "name": "stdout",
          "text": [
            "Área do retângulo: 25\n"
          ]
        }
      ]
    },
    {
      "cell_type": "markdown",
      "source": [
        "---\n",
        "## **Problema - 3**\n",
        "### Crie uma classe Funcionario cujos atributos são nome e e-mail. Guarde as horas trabalhadas em um dicionário cujas chaves são o mês em questão e, em outro dicionário, guarde o salário por hora relativo ao mês em questão. Crie um método que retorna o salário mensal do funcionário."
      ],
      "metadata": {
        "id": "5COEzHMu9IGo"
      }
    },
    {
      "cell_type": "code",
      "source": [
        "class Funcionario:\n",
        "\n",
        "    def __init__(self, nome, email):\n",
        "        self.nome = nome\n",
        "        self.email = email\n",
        "        self.horasTrabalhadas = {}\n",
        "        self.salarioPorHora = {}\n",
        "\n",
        "    def imprimirFunc(self):\n",
        "        print(\"Nome do Funcionário:\", self.nome)\n",
        "        print(\"E-mail do Funcionário:\", self.email)\n",
        "\n",
        "    def addHorasTrabalhadas (self, mes, hora):\n",
        "        self.horasTrabalhadas[mes] = hora\n",
        "\n",
        "    def addSalarioHora (self, mes, salarioHora):\n",
        "        self.salarioPorHora[mes] = salarioHora\n",
        "\n",
        "    def CalcSalarioMensal (self, mes):\n",
        "        if mes not in self.horasTrabalhadas or mes not in self.salarioPorHora:\n",
        "           return \"Informações insuficientes para calcular o salário deste mês.\"\n",
        "        else:\n",
        "          horasTrabalhadasMes = self.horasTrabalhadas[mes]\n",
        "          salarioHoraMes = self.salarioPorHora[mes]\n",
        "          salarioMensal = horasTrabalhadasMes * salarioHoraMes\n",
        "          return salarioMensal\n",
        "\n",
        "#Criando objeto da classe funcionário\n",
        "func1 = Funcionario(\"João Pedro\", \"jp@gmail.com\")\n",
        "\n",
        "#Passando os valores para imprimir o nome e email do funcionário\n",
        "func1.imprimirFunc()\n",
        "\n",
        "#Passando os valores para add horas trabalhas\n",
        "func1.addHorasTrabalhadas(\"JAN\", 160)\n",
        "func1.addSalarioHora(\"JAN\", 15)\n",
        "\n",
        "#Calculando o salário do mês definido\n",
        "salarioMes = func1.CalcSalarioMensal(\"JAN\")\n",
        "\n",
        "#Imprimindo o funcionário e o salário calculado\n",
        "print(\"Salário:\", salarioMes)"
      ],
      "metadata": {
        "colab": {
          "base_uri": "https://localhost:8080/"
        },
        "id": "o_kCo2UyyFD5",
        "outputId": "856cc063-873a-4f89-d82f-0d18bb7a2cce"
      },
      "execution_count": null,
      "outputs": [
        {
          "output_type": "stream",
          "name": "stdout",
          "text": [
            "Nome do Funcionário: João Pedro\n",
            "E-mail do Funcionário: jp@gmail.com\n",
            "Salário: 2400\n"
          ]
        }
      ]
    },
    {
      "cell_type": "markdown",
      "source": [
        "---\n",
        "## **Problema - 4**\n",
        "###     4. Crie uma classe Televisor cujos atributos são:\n",
        "- a. fabricante;\n",
        "- b. modelo;\n",
        "- c. canal atual;\n",
        "- d. lista de canais; e\n",
        "- e. volume.\n",
        "\n",
        "### Faça métodos para aumentar/diminuir volume, trocar o canal e sintonizar um novo canal, que adiciona um novo canal à lista de canais (somente se esse canal não estiver nessa lista). No atributo lista de canais, devem estar armazenados todos os canais já sintonizados dessa TV.\n",
        "\n",
        "**Obs.: O volume não pode ser menor que zero e maior que cem; só se pode trocar para um canal que já esteja na lista de canais.**"
      ],
      "metadata": {
        "id": "KHEyIEEiXUS2"
      }
    },
    {
      "cell_type": "code",
      "source": [
        "class Televisor:\n",
        "    def __init__(self, fabricante, modelo, listaCanais = []):\n",
        "      self.fabricante = fabricante\n",
        "      self.modelo = modelo\n",
        "      self.canalAtual = None\n",
        "      self.listaCanais = listaCanais\n",
        "      self.volume = 50 #Volume inicial\n",
        "\n",
        "    def aumentarVolume(self):\n",
        "       if self.volume < 100:\n",
        "          self.volume +=1\n",
        "\n",
        "    def diminuirVolume(self):\n",
        "       if self.volume > 0:\n",
        "          self.volume -=1\n",
        "\n",
        "    def sintonizarNovoCanal(self, novoCanal):\n",
        "        if novoCanal not in self.listaCanais:\n",
        "          self.listaCanais.append(novoCanal)\n",
        "          self.canalAtual = novoCanal\n",
        "\n",
        "    def trocarCanal(self, novoCanal):\n",
        "        if novoCanal in self.listaCanais:\n",
        "            self.canalAtual = novoCanal\n",
        "\n",
        "# =-=-= Uso da classe Televisor =-=-=\n",
        "objTv = Televisor(\"Samsung\", \"Smart TV\")# Criando objeto da classe televisor\n",
        "\n",
        "# =-=-= Uso dos métodos =-=-=\n",
        "objTv.sintonizarNovoCanal(5)\n",
        "objTv.sintonizarNovoCanal(13)\n",
        "objTv.sintonizarNovoCanal(11)\n",
        "\n",
        "objTv.trocarCanal(13)# Trocando para um canal existente na lista de canais\n",
        "\n",
        "objTv.aumentarVolume()# Aumentando o volume\n",
        "objTv.diminuirVolume()# Diminuindo o volume\n",
        "\n",
        "print(\"Fabricante:\", objTv.fabricante)\n",
        "print(\"Modelo:\", objTv.modelo)\n",
        "print(\"Canal Atual:\", objTv.canalAtual)\n",
        "print(\"Lista de Canais:\", objTv.listaCanais)\n",
        "print(\"Volume:\", objTv.volume)"
      ],
      "metadata": {
        "colab": {
          "base_uri": "https://localhost:8080/"
        },
        "id": "TrQHCPo4DHvI",
        "outputId": "5cb81c07-e483-4352-826f-5dfe0b369154"
      },
      "execution_count": null,
      "outputs": [
        {
          "output_type": "stream",
          "name": "stdout",
          "text": [
            "Fabricante: Samsung\n",
            "Modelo: Smart TV\n",
            "Canal Atual: 13\n",
            "Lista de Canais: [5, 13, 11]\n",
            "Volume: 50\n"
          ]
        }
      ]
    },
    {
      "cell_type": "markdown",
      "source": [
        "---\n",
        "## **Problema - 5**\n",
        "###     5. Crie uma classe **ControleRemoto** cujo atributo é televisão (isso é, recebe um objeto da classe do exercício 4). Crie métodos para aumentar/diminuir volume, trocar o canal e sintonizar um novo canal, que adiciona um novo canal à lista de canais (somente se esse canal não estiver nessa lista)."
      ],
      "metadata": {
        "id": "oB_3bmj8Rey2"
      }
    },
    {
      "cell_type": "code",
      "source": [
        "class ControleRemoto:\n",
        "    def __init__(self, televisao):\n",
        "        self.televisao = televisao\n",
        "\n",
        "    def aumentarVolume(self):\n",
        "        self.televisao.aumentarVolume()\n",
        "\n",
        "    def diminuirVolume(self):\n",
        "        self.televisao.diminuirVolume()\n",
        "\n",
        "    def trocarCanal(self, novoCanal):\n",
        "        if novoCanal in self.televisao.listaCanais:\n",
        "            self.televisao.trocarCanal(novoCanal)\n",
        "        else:\n",
        "            print(\"Canal Atual:\", novoCanal, \"(sem sinal)\")\n",
        "\n",
        "    def sintonizarNovoCanal(self, novoCanal):\n",
        "        self.televisao.sintonizarNovoCanal(novoCanal)\n",
        "\n",
        "# Exemplo de uso da classe ControleRemoto com a classe Televisor\n",
        "tv = Televisor(\"Samsung\", \"Smart TV\")\n",
        "controle_remoto = ControleRemoto(tv)\n",
        "\n",
        "# Aumentar e diminuir volume\n",
        "controle_remoto.aumentarVolume()\n",
        "controle_remoto.diminuirVolume()\n",
        "\n",
        "# Trocar de canal e sintonizar novo canal\n",
        "controle_remoto.trocarCanal(10)\n",
        "controle_remoto.sintonizarNovoCanal(35)\n",
        "\n",
        "print(\"Lista de Canais:\", tv.listaCanais)\n",
        "print(\"Volume:\", tv.volume)"
      ],
      "metadata": {
        "colab": {
          "base_uri": "https://localhost:8080/"
        },
        "id": "dmRgcj4MRtv7",
        "outputId": "9be4bf5e-5744-4d40-d13f-321f93e7ba57"
      },
      "execution_count": null,
      "outputs": [
        {
          "output_type": "stream",
          "name": "stdout",
          "text": [
            "Canal Atual: 10 (sem sinal)\n",
            "Lista de Canais: [5, 13, 11, 15, 35]\n",
            "Volume: 50\n"
          ]
        }
      ]
    },
    {
      "cell_type": "markdown",
      "source": [
        "---\n",
        "## **Problema - 6**\n",
        "###     6. O módulo time possui a função **time.sleep(x)**, que faz seu programa “dormir” por x segundos. Utilizando essa função, crie uma classe **Cronometro** e faça um programa que cronometre o tempo."
      ],
      "metadata": {
        "id": "_5-BKSlPYo4l"
      }
    },
    {
      "cell_type": "code",
      "source": [
        "import time\n",
        "\n",
        "class Cronometro:\n",
        "    def __init__(self):\n",
        "        self.tempoInicial = 0\n",
        "        self.tempoFinal = 0\n",
        "\n",
        "    def iniciarCronometro(self):\n",
        "        print(\"Cronômetro iniciado.\")\n",
        "        self.tempoInicial = time.time()\n",
        "\n",
        "    def pararCronometro(self):\n",
        "        if self.tempoInicial == 0:\n",
        "            print(\"O cronômetro ainda não foi iniciado.\")\n",
        "            return\n",
        "\n",
        "        self.tempoFinal = time.time()\n",
        "        duracao = self.tempoFinal - self.tempoInicial\n",
        "        print(f\"Cronômetro parado. Tempo decorrido: {duracao:.2f} segundos.\")\n",
        "\n",
        "    def reiniciarCronometro(self):\n",
        "        self.tempoInicial = 0\n",
        "        self.tempoFinal = 0\n",
        "        print(\"Cronômetro reiniciado.\")\n",
        "\n",
        "# Exemplo de uso da classe Cronometro\n",
        "cronometro = Cronometro()\n",
        "\n",
        "# Inicia o cronômetro\n",
        "cronometro.iniciarCronometro()\n",
        "\n",
        "# Faz o programa \"dormir\" por 5 segundos\n",
        "time.sleep(5)\n",
        "\n",
        "# Para o cronômetro\n",
        "cronometro.pararCronometro()\n",
        "\n",
        "# Reinicia o cronômetro\n",
        "cronometro.reiniciarCronometro()\n",
        "\n",
        "# Inicia novamente o cronômetro\n",
        "cronometro.iniciarCronometro()\n",
        "\n",
        "# Faz o programa \"dormir\" por 3 segundos\n",
        "time.sleep(3)\n",
        "\n",
        "# Para o cronômetro\n",
        "cronometro.pararCronometro()\n"
      ],
      "metadata": {
        "colab": {
          "base_uri": "https://localhost:8080/"
        },
        "id": "hs8AQFEDXdxi",
        "outputId": "eaa892eb-a032-47b2-a2b6-aeb14b2d23f9"
      },
      "execution_count": null,
      "outputs": [
        {
          "output_type": "stream",
          "name": "stdout",
          "text": [
            "Cronômetro iniciado.\n",
            "Cronômetro parado. Tempo decorrido: 5.01 segundos.\n",
            "Cronômetro reiniciado.\n",
            "Cronômetro iniciado.\n",
            "Cronômetro parado. Tempo decorrido: 3.00 segundos.\n"
          ]
        }
      ]
    },
    {
      "cell_type": "markdown",
      "source": [
        "---\n",
        "## **Problema - 7**\n",
        "###     7. Crie uma modelagem de classes para uma agenda capaz de armazenar contatos. Através dessa agenda é possível incluir, remover, buscar e listar contatos já cadastrados."
      ],
      "metadata": {
        "id": "KzU09FJddeqE"
      }
    },
    {
      "cell_type": "code",
      "source": [
        "class Contato:\n",
        "    def __init__(self, nome, telefone, email):\n",
        "        self.nome = nome\n",
        "        self.telefone = telefone\n",
        "        self.email = email\n",
        "\n",
        "    def __str__(self):\n",
        "        return f\"Nome: {self.nome}\\nTelefone: {self.telefone}\\nEmail: {self.email}\"\n",
        "\n",
        "class Agenda:\n",
        "    def __init__(self):\n",
        "        self.contatos = []\n",
        "\n",
        "    def incluirContato(self, contato):\n",
        "        self.contatos.append(contato)\n",
        "\n",
        "    def removerContato(self, nome):\n",
        "        for contato in self.contatos:\n",
        "            if contato.nome == nome:\n",
        "                self.contatos.remove(contato)\n",
        "                print(\"=-=-=-= Remoção de contatos=-=-=-=\")\n",
        "                print(f\"Contato {nome} removido com sucesso.\")\n",
        "                return\n",
        "        print(f\"Contato {nome} não encontrado na agenda.\")\n",
        "\n",
        "    def buscarContato(self, nome):\n",
        "        for contato in self.contatos:\n",
        "            if contato.nome == nome:\n",
        "                print(\"=-=-=-= Busca de contatos=-=-=-=\")\n",
        "                print(\"#Contato encontrado:\")\n",
        "                print(contato)\n",
        "                return\n",
        "        print(f\"Contato {nome} não encontrado na agenda.\")\n",
        "\n",
        "    def listarContatos(self):\n",
        "        if self.contatos:\n",
        "            print(\"=-=-=-= Lista de contatos=-=-=-=\")\n",
        "            for contato in self.contatos:\n",
        "                print(contato)\n",
        "        else:\n",
        "            print(\"A agenda está vazia.\")\n",
        "\n",
        "\n",
        "# Exemplo de uso da agenda\n",
        "agenda = Agenda()\n",
        "\n",
        "# Incluir contatos\n",
        "contato1 = Contato(\"Alice\", \"123456789\", \"alice@example.com\")\n",
        "contato2 = Contato(\"Bob\", \"987654321\", \"bob@example.com\")\n",
        "\n",
        "agenda.incluirContato(contato1)\n",
        "agenda.incluirContato(contato2)\n",
        "\n",
        "# Listar contatos\n",
        "agenda.listarContatos()\n",
        "\n",
        "# Buscar contato\n",
        "agenda.buscarContato(\"Alice\")\n",
        "\n",
        "# Remover contato\n",
        "agenda.removerContato(\"Bob\")\n",
        "\n",
        "# Listar contatos após remoção\n",
        "agenda.listarContatos()"
      ],
      "metadata": {
        "colab": {
          "base_uri": "https://localhost:8080/"
        },
        "id": "za4sWm0RdtD4",
        "outputId": "7188e625-6349-4053-bf57-b11fba47c6b2"
      },
      "execution_count": null,
      "outputs": [
        {
          "output_type": "stream",
          "name": "stdout",
          "text": [
            "=-=-=-= Lista de contatos=-=-=-=\n",
            "Nome: Alice\n",
            "Telefone: 123456789\n",
            "Email: alice@example.com\n",
            "Nome: Bob\n",
            "Telefone: 987654321\n",
            "Email: bob@example.com\n",
            "=-=-=-= Busca de contatos=-=-=-=\n",
            "#Contato encontrado:\n",
            "Nome: Alice\n",
            "Telefone: 123456789\n",
            "Email: alice@example.com\n",
            "=-=-=-= Remoção de contatos=-=-=-=\n",
            "Contato Bob removido com sucesso.\n",
            "=-=-=-= Lista de contatos=-=-=-=\n",
            "Nome: Alice\n",
            "Telefone: 123456789\n",
            "Email: alice@example.com\n"
          ]
        }
      ]
    },
    {
      "cell_type": "markdown",
      "source": [
        "---\n",
        "## **Problema - 8**\n",
        "###     8. Crie uma classe Cliente cujos atributos são nome, idade e e-mail. Construa um método que imprima as informações tal como abaixo:\n",
        " - Nome: Fulano de Tal\n",
        " - Idade: 40\n",
        " - E-mail: fulano@mail.com"
      ],
      "metadata": {
        "id": "N9zsOCqlx-nn"
      }
    },
    {
      "cell_type": "code",
      "source": [
        "class Cliente:\n",
        "\n",
        "    def __init__(self, nome, telefone, email):\n",
        "        self.nome = nome\n",
        "        self.telefone = telefone\n",
        "        self.email = email\n",
        "\n",
        "    def imprimirInforCliente(self):\n",
        "        print(f\"Nome: {self.nome}\")\n",
        "        print(f\"Idade: {self.telefone}\")\n",
        "        print(f\"E-mail: {self.email}\")\n",
        "\n",
        "objCliente = Cliente(\"João Pedro\", 22, \"jp@gmail.com\")\n",
        "\n",
        "objCliente.imprimirInforCliente()"
      ],
      "metadata": {
        "colab": {
          "base_uri": "https://localhost:8080/"
        },
        "id": "1x0sI10Nyb7o",
        "outputId": "a7a2fd1f-bc1d-4fd7-fbee-112f93362a65"
      },
      "execution_count": 3,
      "outputs": [
        {
          "output_type": "stream",
          "name": "stdout",
          "text": [
            "Nome: João Pedro\n",
            "Idade: 22\n",
            "E-mail: jp@gmail.com\n"
          ]
        }
      ]
    },
    {
      "cell_type": "markdown",
      "source": [
        "---\n",
        "## **Problema - 9**\n",
        "###     9. Com base no exercício anterior, crie um sistema de cadastro e a classe Cliente. Seu programa deve perguntar se o usuário quer cadastrar um novo cliente, alterar um cadastro ou sair.\n",
        "\n",
        "### ***Dica:*** Você pode fazer esse exercício criando uma classe Sistema, que irá controlar o sistema de cadastros. Essa classe deve ter o atributo cadastro e os métodos para imprimir os cadastrados, cadastrar um novo cliente, alterar um cadastro ou sair."
      ],
      "metadata": {
        "id": "cT-TDjb20Usr"
      }
    },
    {
      "cell_type": "code",
      "source": [
        "class Sistema:\n",
        "    def __init__(self):\n",
        "        self.cadastros = []\n",
        "\n",
        "    def imprimirCadastros(self):\n",
        "        if self.cadastros:\n",
        "            print(\"Lista de Cadastro:\")\n",
        "            for cliente in self.cadastros:\n",
        "                print(f\"Nome: {cliente.nome}, Telefone: {cliente.telefone}, Email: {cliente.email}\")\n",
        "        else:\n",
        "            print(\"Nenhum cliente cadastrado.\")\n",
        "\n",
        "    def cadastrarCliente(self):\n",
        "        nome = input(\"Digite o nome do cliente: \")\n",
        "        telefone = input(\"Digite o telefone do cliente: \")\n",
        "        email = input(\"Digite o email do cliente: \")\n",
        "        cliente = Cliente(nome, telefone, email)\n",
        "        self.cadastros.append(cliente)\n",
        "        print(\"Cliente cadastrado com sucesso.\")\n",
        "\n",
        "    def alterarCadastro(self):\n",
        "        nome = input(\"Digite o nome do cliente que deseja alterar: \")\n",
        "        for cliente in self.cadastros:\n",
        "            if cliente.nome == nome:\n",
        "                cliente.nome = input(\"Digite o novo nome: \")\n",
        "                cliente.telefone = input(\"Digite o novo telefone: \")\n",
        "                cliente.email = input(\"Digite o novo email: \")\n",
        "                print(\"Cadastro alterado com sucesso.\")\n",
        "                return\n",
        "        print(\"Cliente não encontrado.\")\n",
        "\n",
        "    def executar(self):\n",
        "        while True:\n",
        "            print(\"\\n1 - Imprimir Cadastros\")\n",
        "            print(\"2 - Cadastrar Cliente\")\n",
        "            print(\"3 - Alterar Cadastro\")\n",
        "            print(\"4 - Sair\")\n",
        "\n",
        "            opcao = input(\"Escolha uma opção: \")\n",
        "\n",
        "            if opcao == '1':\n",
        "                self.imprimirCadastros()\n",
        "            elif opcao == '2':\n",
        "                self.cadastrarCliente()\n",
        "            elif opcao == '3':\n",
        "                self.alterarCadastro()\n",
        "            elif opcao == '4':\n",
        "                print(\"Saindo do programa.\")\n",
        "                break\n",
        "            else:\n",
        "                print(\"Opção inválida.\")\n",
        "\n",
        "\n",
        "# Testando o sistema\n",
        "sistema = Sistema()\n",
        "sistema.executar()"
      ],
      "metadata": {
        "id": "yyc0HtF91cVI",
        "colab": {
          "base_uri": "https://localhost:8080/"
        },
        "outputId": "1a15a99c-af31-4157-db84-02c357642f36"
      },
      "execution_count": null,
      "outputs": [
        {
          "output_type": "stream",
          "name": "stdout",
          "text": [
            "\n",
            "1 - Imprimir Cadastros\n",
            "2 - Cadastrar Cliente\n",
            "3 - Alterar Cadastro\n",
            "4 - Sair\n",
            "Escolha uma opção: 1\n",
            "Nenhum cliente cadastrado.\n",
            "\n",
            "1 - Imprimir Cadastros\n",
            "2 - Cadastrar Cliente\n",
            "3 - Alterar Cadastro\n",
            "4 - Sair\n",
            "Escolha uma opção: 2\n",
            "Digite o nome do cliente: jpdicarvalho\n",
            "Digite o telefone do cliente: 93992325542\n",
            "Digite o email do cliente: jp@gmail.com\n",
            "Cliente cadastrado com sucesso.\n",
            "\n",
            "1 - Imprimir Cadastros\n",
            "2 - Cadastrar Cliente\n",
            "3 - Alterar Cadastro\n",
            "4 - Sair\n",
            "Escolha uma opção: 1\n",
            "Lista de Cadastro:\n",
            "Nome: jpdicarvalho, Telefone: 93992325542, Email: jp@gmail.com\n",
            "\n",
            "1 - Imprimir Cadastros\n",
            "2 - Cadastrar Cliente\n",
            "3 - Alterar Cadastro\n",
            "4 - Sair\n",
            "Escolha uma opção: 3\n",
            "Digite o nome do cliente que deseja alterar: jp\n",
            "Cliente não encontrado.\n",
            "\n",
            "1 - Imprimir Cadastros\n",
            "2 - Cadastrar Cliente\n",
            "3 - Alterar Cadastro\n",
            "4 - Sair\n",
            "Escolha uma opção: jpdicarvalho\n",
            "Opção inválida.\n",
            "\n",
            "1 - Imprimir Cadastros\n",
            "2 - Cadastrar Cliente\n",
            "3 - Alterar Cadastro\n",
            "4 - Sair\n",
            "Escolha uma opção: 3\n",
            "Digite o nome do cliente que deseja alterar: jpdicarvalho\n",
            "Digite o novo nome: jp.dicarvalho\n",
            "Digite o novo telefone: (93) 992325542\n",
            "Digite o novo email: jp@gmail.com\n",
            "Cadastro alterado com sucesso.\n",
            "\n",
            "1 - Imprimir Cadastros\n",
            "2 - Cadastrar Cliente\n",
            "3 - Alterar Cadastro\n",
            "4 - Sair\n",
            "Escolha uma opção: 1\n",
            "Lista de Cadastro:\n",
            "Nome: jp.dicarvalho, Telefone: (93) 992325542, Email: jp@gmail.com\n",
            "\n",
            "1 - Imprimir Cadastros\n",
            "2 - Cadastrar Cliente\n",
            "3 - Alterar Cadastro\n",
            "4 - Sair\n",
            "Escolha uma opção: 4\n",
            "Saindo do programa.\n"
          ]
        }
      ]
    },
    {
      "cell_type": "markdown",
      "source": [
        "---\n",
        "## **Problema - 10**\n",
        "###     10. Crie uma classe **ContaCorrente** com os atributos cliente (que deve ser um objeto da classe **Cliente**) e saldo. Crie métodos para depósito, saque e transferência. Os métodos de saque e transferência devem verificar se é possível realizar a transação."
      ],
      "metadata": {
        "id": "2KGWFu2sNtDV"
      }
    },
    {
      "cell_type": "code",
      "source": [
        "class ContaCorrente:\n",
        "    def __init__(self, cliente, saldo=0.0):\n",
        "        self.cliente = cliente\n",
        "        self.saldo = saldo\n",
        "\n",
        "    def depositar(self, valor):\n",
        "        if valor > 0:\n",
        "            self.saldo += valor\n",
        "            print(f\"Depósito de R${valor} realizado com sucesso.\")\n",
        "        else:\n",
        "            print(\"O valor do depósito deve ser maior que zero.\")\n",
        "\n",
        "    def sacar(self, valor):\n",
        "        if 0 < valor <= self.saldo:\n",
        "            self.saldo -= valor\n",
        "            print(f\"Saque de R${valor} realizado com sucesso.\")\n",
        "        else:\n",
        "            print(\"Erro ao realizar o saque! Valor do saque é maior que saldo da conta.\")\n",
        "\n",
        "    def consultarSaldo(self):\n",
        "        print(f\"Saldo disponível: R${self.saldo}\")\n",
        "\n",
        "    def transferencia(self, destino, valor):\n",
        "        if 0 < valor <= self.saldo:\n",
        "            self.sacar(valor)\n",
        "            destino.depositar(valor)\n",
        "            print(f\"Transferência de R${valor} realizada para a conta de {destino.cliente.nome}.\")\n",
        "        else:\n",
        "            print(\"Erro ao realizar a transferência! Valor inválido ou saldo insuficiente.\")\n",
        "\n",
        "\n",
        "# Testando a classe ContaCorrente\n",
        "cliente_01 = Cliente(\"João\", \"454545\", \"jaj@gmail.com\")\n",
        "cliente_02 = Cliente(\"Pedro\", \"4747474\", \"pedr@gmail.com\")\n",
        "\n",
        "contaCliente_01 = ContaCorrente(cliente_01, 1000)\n",
        "contaCliente_02 = ContaCorrente(cliente_02, 2000)\n",
        "\n",
        "print(\"=-=-= Deposito - Conta 01 =-=-=\")\n",
        "contaCliente_01.depositar(4000)\n",
        "print(\"\\n=-=-= Deposito - Conta 02 =-=-=\")\n",
        "contaCliente_02.depositar(4000)\n",
        "\n",
        "print(\"\\n=-=-= Conta 01 - Saldo =-=-=\")\n",
        "contaCliente_01.consultarSaldo()\n",
        "print(\"\\n=-=-= Conta 02 - Saldo =-=-=\")\n",
        "contaCliente_02.consultarSaldo()\n",
        "\n",
        "print(\"\\n=-=-= Transferência da conta 1 para conta 2 =-=-=\")\n",
        "contaCliente_02.transferencia(contaCliente_01, 2000)\n",
        "\n",
        "print(\"\\n=-=-= Conta 01 - Saldo =-=-=\")\n",
        "contaCliente_01.consultarSaldo()\n",
        "print(\"\\n=-=-= Conta 02 - Saldo =-=-=\")\n",
        "contaCliente_02.consultarSaldo()\n"
      ],
      "metadata": {
        "colab": {
          "base_uri": "https://localhost:8080/"
        },
        "id": "0pRzYPIYOhH6",
        "outputId": "95e8d75e-bf53-4c7b-84ad-25841ab15833"
      },
      "execution_count": 4,
      "outputs": [
        {
          "output_type": "stream",
          "name": "stdout",
          "text": [
            "=-=-= Deposito - Conta 01 =-=-=\n",
            "Depósito de R$4000 realizado com sucesso.\n",
            "\n",
            "=-=-= Deposito - Conta 02 =-=-=\n",
            "Depósito de R$4000 realizado com sucesso.\n",
            "\n",
            "=-=-= Conta 01 - Saldo =-=-=\n",
            "Saldo disponível: R$5000\n",
            "\n",
            "=-=-= Conta 02 - Saldo =-=-=\n",
            "Saldo disponível: R$6000\n",
            "\n",
            "=-=-= Transferência da conta 1 para conta 2 =-=-=\n",
            "Saque de R$2000 realizado com sucesso.\n",
            "Depósito de R$2000 realizado com sucesso.\n",
            "Transferência de R$2000 realizada para a conta de João.\n",
            "\n",
            "=-=-= Conta 01 - Saldo =-=-=\n",
            "Saldo disponível: R$7000\n",
            "\n",
            "=-=-= Conta 02 - Saldo =-=-=\n",
            "Saldo disponível: R$4000\n"
          ]
        }
      ]
    },
    {
      "cell_type": "markdown",
      "source": [
        "---\n",
        "## **Problema - 11**\n",
        "###     11. Crie uma classe Fração cujos atributos são numerador (número de cima) e denominador (número de baixo). Implemente os métodos de adição, subtração, multiplicação, divisão que retornam objetos do tipo Fração. Implemente também o método **__ repr __** Implemente métodos para comparação: igualdade (==) e desigualdades (!=, <=, >=, < e >)."
      ],
      "metadata": {
        "id": "cHTtoPA3J_aX"
      }
    },
    {
      "cell_type": "code",
      "source": [
        "class Fracao:\n",
        "    def __init__(self, numerador, denominador):\n",
        "        self.numerador = numerador\n",
        "        self.denominador = denominador\n",
        "\n",
        "    def __repr__(self):\n",
        "        return f'{self.numerador}/{self.denominador}'\n",
        "\n",
        "    def __add__(self, outra_fracao):\n",
        "        novo_numerador = self.numerador * outra_fracao.denominador + outra_fracao.numerador * self.denominador\n",
        "        novo_denominador = self.denominador * outra_fracao.denominador\n",
        "        return Fracao(novo_numerador, novo_denominador)\n",
        "\n",
        "    def __sub__(self, outra_fracao):\n",
        "        novo_numerador = self.numerador * outra_fracao.denominador - outra_fracao.numerador * self.denominador\n",
        "        novo_denominador = self.denominador * outra_fracao.denominador\n",
        "        return Fracao(novo_numerador, novo_denominador)\n",
        "\n",
        "    def __mul__(self, outra_fracao):\n",
        "        novo_numerador = self.numerador * outra_fracao.numerador\n",
        "        novo_denominador = self.denominador * outra_fracao.denominador\n",
        "        return Fracao(novo_numerador, novo_denominador)\n",
        "\n",
        "    def __truediv__(self, outra_fracao):\n",
        "        novo_numerador = self.numerador * outra_fracao.denominador\n",
        "        novo_denominador = self.denominador * outra_fracao.numerador\n",
        "        return Fracao(novo_numerador, novo_denominador)\n",
        "\n",
        "    def __eq__(self, outra_fracao):\n",
        "        return self.numerador * outra_fracao.denominador == outra_fracao.numerador * self.denominador\n",
        "\n",
        "    def __ne__(self, outra_fracao):\n",
        "        return not self == outra_fracao\n",
        "\n",
        "    def __lt__(self, outra_fracao):\n",
        "        return self.numerador * outra_fracao.denominador < outra_fracao.numerador * self.denominador\n",
        "\n",
        "    def __le__(self, outra_fracao):\n",
        "        return self.numerador * outra_fracao.denominador <= outra_fracao.numerador * self.denominador\n",
        "\n",
        "    def __gt__(self, outra_fracao):\n",
        "        return self.numerador * outra_fracao.denominador > outra_fracao.numerador * self.denominador\n",
        "\n",
        "    def __ge__(self, outra_fracao):\n",
        "        return self.numerador * outra_fracao.denominador >= outra_fracao.numerador * self.denominador\n",
        "\n",
        "\n",
        "# Testando a classe Fracao\n",
        "frac1 = Fracao(1, 2)\n",
        "frac2 = Fracao(1, 3)\n",
        "\n",
        "print(f\"Fração 1: {frac1}\")\n",
        "print(f\"Fração 2: {frac2}\")\n",
        "\n",
        "print(f\"Adição: {frac1 + frac2}\")\n",
        "print(f\"Subtração: {frac1 - frac2}\")\n",
        "print(f\"Multiplicação: {frac1 * frac2}\")\n",
        "print(f\"Divisão: {frac1 / frac2}\")\n",
        "\n",
        "print(f\"Igualdade (Fração 1 == Fração 2): {frac1 == frac2}\")\n",
        "print(f\"Diferença (Fração 1 != Fração 2): {frac1 != frac2}\")\n",
        "print(f\"Menor que (Fração 1 < Fração 2): {frac1 < frac2}\")\n",
        "print(f\"Menor ou igual (Fração 1 <= Fração 2): {frac1 <= frac2}\")\n",
        "print(f\"Maior que (Fração 1 > Fração 2): {frac1 > frac2}\")\n",
        "print(f\"Maior ou igual (Fração 1 >= Fração 2): {frac1 >= frac2}\")\n"
      ],
      "metadata": {
        "id": "bzq4aqLVfV2_",
        "colab": {
          "base_uri": "https://localhost:8080/"
        },
        "outputId": "fefb46ef-79a2-48ed-9094-59dcf336b6c3"
      },
      "execution_count": null,
      "outputs": [
        {
          "output_type": "stream",
          "name": "stdout",
          "text": [
            "Fração 1: 1/2\n",
            "Fração 2: 1/3\n",
            "Adição: 5/6\n",
            "Subtração: 1/6\n",
            "Multiplicação: 1/6\n",
            "Divisão: 3/2\n",
            "Igualdade (Fração 1 == Fração 2): False\n",
            "Diferença (Fração 1 != Fração 2): True\n",
            "Menor que (Fração 1 < Fração 2): False\n",
            "Menor ou igual (Fração 1 <= Fração 2): False\n",
            "Maior que (Fração 1 > Fração 2): True\n",
            "Maior ou igual (Fração 1 >= Fração 2): True\n"
          ]
        }
      ]
    },
    {
      "cell_type": "markdown",
      "source": [
        "---\n",
        "## **Problema - 12**\n",
        "###     12.\tCrie uma classe Data cujos atributos são dia, mês e ano. Implemente métodos __repr__ e para comparação: igualdade (==) e desigualdades (!=, <=, >=, < e >)."
      ],
      "metadata": {
        "id": "jmMBAYG7EQ5-"
      }
    },
    {
      "cell_type": "code",
      "source": [
        "class Data:\n",
        "    def __init__(self, dia, mes, ano):\n",
        "        self.dia = dia\n",
        "        self.mes = mes\n",
        "        self.ano = ano\n",
        "\n",
        "    def __repr__(self):\n",
        "        return f'{self.dia}/{self.mes}/{self.ano}'\n",
        "\n",
        "    def __eq__(self, other):\n",
        "        if isinstance(other, Data):\n",
        "            return (self.ano, self.mes, self.dia) == (other.ano, other.mes, other.dia)\n",
        "        return NotImplemented\n",
        "\n",
        "    def __ne__(self, other):\n",
        "        if isinstance(other, Data):\n",
        "            return (self.ano, self.mes, self.dia) != (other.ano, other.mes, other.dia)\n",
        "        return NotImplemented\n",
        "\n",
        "    def __lt__(self, other):\n",
        "        if isinstance(other, Data):\n",
        "            return (self.ano, self.mes, self.dia) < (other.ano, other.mes, other.dia)\n",
        "        return NotImplemented\n",
        "\n",
        "    def __le__(self, other):\n",
        "        if isinstance(other, Data):\n",
        "            return (self.ano, self.mes, self.dia) <= (other.ano, other.mes, other.dia)\n",
        "        return NotImplemented\n",
        "\n",
        "    def __gt__(self, other):\n",
        "        if isinstance(other, Data):\n",
        "            return (self.ano, self.mes, self.dia) > (other.ano, other.mes, other.dia)\n",
        "        return NotImplemented\n",
        "\n",
        "    def __ge__(self, other):\n",
        "        if isinstance(other, Data):\n",
        "            return (self.ano, self.mes, self.dia) >= (other.ano, other.mes, other.dia)\n",
        "        return NotImplemented\n",
        "\n",
        "\n",
        "# Testing the Data class\n",
        "data1 = Data(25, 2, 2023)\n",
        "data2 = Data(25, 2, 2023)\n",
        "data3 = Data(10, 4, 2022)\n",
        "\n",
        "print(f\"Data 1: {data1}\")\n",
        "print(f\"Data 2: {data2}\")\n",
        "print(f\"Data 3: {data3}\")\n",
        "\n",
        "print(f\"Data 1 == Data 2: {data1 == data2}\")\n",
        "print(f\"Data 1 != Data 3: {data1 != data3}\")\n",
        "print(f\"Data 1 < Data 3: {data1 < data3}\")\n",
        "print(f\"Data 1 <= Data 3: {data1 <= data3}\")\n",
        "print(f\"Data 1 > Data 3: {data1 > data3}\")\n",
        "print(f\"Data 1 >= Data 3: {data1 >= data3}\")"
      ],
      "metadata": {
        "colab": {
          "base_uri": "https://localhost:8080/"
        },
        "id": "9X-RY-gmEPjh",
        "outputId": "75ce0745-bce2-4688-8857-cc1ca8a241e4"
      },
      "execution_count": null,
      "outputs": [
        {
          "output_type": "stream",
          "name": "stdout",
          "text": [
            "Data 1: 25/2/2023\n",
            "Data 2: 25/2/2023\n",
            "Data 3: 10/4/2022\n",
            "Data 1 == Data 2: True\n",
            "Data 1 != Data 3: True\n",
            "Data 1 < Data 3: False\n",
            "Data 1 <= Data 3: False\n",
            "Data 1 > Data 3: True\n",
            "Data 1 >= Data 3: True\n"
          ]
        }
      ]
    },
    {
      "cell_type": "markdown",
      "source": [
        "---\n",
        "## **Problema - 13**\n",
        "###     13.\tNos exercícios 1, 2, 3, 4 e 6, implemente o método __repr__ para exibir as informações desejadas de cada uma das classes."
      ],
      "metadata": {
        "id": "59pFozwsKd8i"
      }
    },
    {
      "cell_type": "markdown",
      "source": [
        "## >> **Problema_1 - Código Alterado**"
      ],
      "metadata": {
        "id": "CzaB5ytaUssn"
      }
    },
    {
      "cell_type": "code",
      "source": [
        "import math # Importa o módulo de matemática para usar funções matemáticas como pi\n",
        "\n",
        "# Define a classe Bola\n",
        "class Bola:\n",
        "\n",
        "    def __init__(self, cor, raio): # Método especial de inicialização da classe\n",
        "        self.cor = cor # Atributo cor da bola\n",
        "        self.raio = raio # Atributo raio da bola\n",
        "\n",
        "    def __repr__(self):\n",
        "        return f'Informações da Bola:\\n Cor: {self.cor}\\n Raio: {self.raio}\\n Área: {self.calcular_Area()}\\n Volume: {self.calcular_Volume()}'\n",
        "\n",
        "    def calcular_Area(self): # Método para calcular a área da bola\n",
        "        area = 4 * math.pi * self.raio ** 2 # Fórmula da área de uma esfera\n",
        "        return area # Retorna a área calculada\n",
        "\n",
        "    def calcular_Volume(self): # Método para calcular o volume da bola\n",
        "        volume = (4/3) * math.pi * self.raio ** 3 # Fórmula do volume de uma esfera\n",
        "        return volume # Retorna o volume calculado\n",
        "\n",
        "\n",
        "# Criando um objeto da classe Bola\n",
        "objBola = Bola(\"Preta\", 7) # Instancia um objeto da classe Bola com cor vermelha e raio 7\n",
        "\n",
        "# Calculando área e volume\n",
        "area = objBola.calcular_Area() # Chama o método calcularArea() da instância bola\n",
        "volume = objBola.calcular_Volume() # Chama o método calcularVolume() da instância bola\n",
        "\n",
        "# Imprimindo as informações da Bola\n",
        "print(f\"{objBola}\")"
      ],
      "metadata": {
        "colab": {
          "base_uri": "https://localhost:8080/"
        },
        "id": "Db_p0CtrPDc-",
        "outputId": "9e076088-659b-43d2-d283-2bb4e7206db5"
      },
      "execution_count": null,
      "outputs": [
        {
          "output_type": "stream",
          "name": "stdout",
          "text": [
            "Informações da Bola:\n",
            " Cor: Preta\n",
            " Raio: 7\n",
            " Área: 615.7521601035994\n",
            " Volume: 1436.7550402417319\n"
          ]
        }
      ]
    },
    {
      "cell_type": "markdown",
      "source": [
        "##>> **Problema_2 - Código Alterado**"
      ],
      "metadata": {
        "id": "72XFss-sPfiR"
      }
    },
    {
      "cell_type": "code",
      "source": [
        "import math\n",
        "\n",
        "class Retangulo:\n",
        "    def __init__(self, lado_a, lado_b):\n",
        "        self.lado_a = lado_a\n",
        "        self.lado_b = lado_b\n",
        "\n",
        "    def calcularArea(self):\n",
        "        return self.lado_a * self.lado_b\n",
        "\n",
        "    def __repr__(self):\n",
        "        area = self.calcularArea()\n",
        "        return f'Área: {area}'\n",
        "\n",
        "# Passando os valores para calcular a área\n",
        "comp_lado_a = 5\n",
        "larg_lado_b = 5\n",
        "\n",
        "# Criando objeto da classe retângulo\n",
        "objRetangulo = Retangulo(comp_lado_a, larg_lado_b)\n",
        "\n",
        "# Imprimindo a área do retângulo\n",
        "print(objRetangulo)"
      ],
      "metadata": {
        "colab": {
          "base_uri": "https://localhost:8080/"
        },
        "id": "OKMTeNQ8PlaT",
        "outputId": "32029a6c-0b26-4586-b286-2f76f261200e"
      },
      "execution_count": 25,
      "outputs": [
        {
          "output_type": "stream",
          "name": "stdout",
          "text": [
            "Área: 25\n"
          ]
        }
      ]
    },
    {
      "cell_type": "markdown",
      "source": [
        "##>> **Problema_3 - Código Alterado**"
      ],
      "metadata": {
        "id": "23lJwplERN2l"
      }
    },
    {
      "cell_type": "code",
      "source": [
        "class Funcionario:\n",
        "    def __init__(self, nome, email):\n",
        "        self.nome = nome\n",
        "        self.email = email\n",
        "        self.horasTrabalhadas = {}\n",
        "        self.salarioPorHora = {}\n",
        "\n",
        "    def addHorasTrabalhadas(self, mes, hora):\n",
        "        self.horasTrabalhadas[mes] = hora\n",
        "\n",
        "    def addSalarioHora(self, mes, salarioHora):\n",
        "        self.salarioPorHora[mes] = salarioHora\n",
        "\n",
        "    def CalcSalarioMensal(self, mes):\n",
        "        if mes in self.horasTrabalhadas and mes in self.salarioPorHora:\n",
        "            horasTrabalhadasMes = self.horasTrabalhadas[mes]\n",
        "            salarioHoraMes = self.salarioPorHora[mes]\n",
        "            salarioMensal = horasTrabalhadasMes * salarioHoraMes\n",
        "            return salarioMensal\n",
        "        else:\n",
        "            return \"Informações insuficientes para calcular o salário deste mês.\"\n",
        "\n",
        "    def __repr__(self):\n",
        "        salario = self.CalcSalarioMensal('JAN')\n",
        "        return f'Informações do Funcionário:\\n Nome: {self.nome}\\n E-mail: {self.email}\\n Salário: {salario}'\n",
        "\n",
        "# Criando objeto da classe funcionário\n",
        "func1 = Funcionario(\"João Pedro\", \"jp@gmail.com\")\n",
        "\n",
        "# Passando os valores para add horas trabalhadas\n",
        "func1.addHorasTrabalhadas(\"JAN\", 200)\n",
        "func1.addSalarioHora(\"JAN\", 30)\n",
        "\n",
        "print(func1)"
      ],
      "metadata": {
        "colab": {
          "base_uri": "https://localhost:8080/"
        },
        "id": "tbGByo8rRd5p",
        "outputId": "0c4fb3aa-621a-4488-dec1-24ed7ea82807"
      },
      "execution_count": null,
      "outputs": [
        {
          "output_type": "stream",
          "name": "stdout",
          "text": [
            "Informações do Funcionário:\n",
            " Nome: João Pedro\n",
            " E-mail: jp@gmail.com\n",
            " Salário: 6000\n"
          ]
        }
      ]
    },
    {
      "cell_type": "markdown",
      "source": [
        "##>> **Problema_4 - Código Alterado**\n"
      ],
      "metadata": {
        "id": "LCyE8pHeTiPm"
      }
    },
    {
      "cell_type": "code",
      "source": [
        "class Televisor:\n",
        "    def __init__(self, fabricante, modelo, listaCanais = []):\n",
        "      self.fabricante = fabricante\n",
        "      self.modelo = modelo\n",
        "      self.canalAtual = None\n",
        "      self.listaCanais = listaCanais\n",
        "      self.volume = 50 #Volume inicial\n",
        "\n",
        "    def aumentarVolume(self):\n",
        "       if self.volume < 100:\n",
        "          self.volume +=1\n",
        "\n",
        "    def diminuirVolume(self):\n",
        "       if self.volume > 0:\n",
        "          self.volume -=1\n",
        "\n",
        "    def sintonizarNovoCanal(self, novoCanal):\n",
        "        if novoCanal not in self.listaCanais:\n",
        "          self.listaCanais.append(novoCanal)\n",
        "          self.canalAtual = novoCanal\n",
        "\n",
        "    def trocarCanal(self, novoCanal):\n",
        "        if novoCanal in self.listaCanais:\n",
        "            self.canalAtual = novoCanal\n",
        "\n",
        "    def __repr__(self):\n",
        "        return f'Informações do Televisor:\\n Fabricante: {self.fabricante}\\n Modelo: {self.modelo}\\n Canal Atual: {self.canalAtual}\\n Lista de Canais: {self.listaCanais}\\n Volume: {self.volume}'\n",
        "\n",
        "# =-=-= Uso da classe Televisor =-=-=\n",
        "objTv = Televisor(\"Samsung\", \"Smart TV\")# Criando objeto da classe televisor\n",
        "\n",
        "# =-=-= Uso dos métodos =-=-=\n",
        "objTv.sintonizarNovoCanal(5)\n",
        "objTv.sintonizarNovoCanal(13)\n",
        "objTv.sintonizarNovoCanal(11)\n",
        "\n",
        "objTv.trocarCanal(13)# Trocando para um canal existente na lista de canais\n",
        "\n",
        "objTv.aumentarVolume()# Aumentando o volume\n",
        "objTv.diminuirVolume()# Diminuindo o volume\n",
        "\n",
        "print(objTv)"
      ],
      "metadata": {
        "colab": {
          "base_uri": "https://localhost:8080/"
        },
        "id": "Tnp-GghWTuPB",
        "outputId": "0d1c11a0-9ad3-434d-b91c-78b186d1e0ad"
      },
      "execution_count": null,
      "outputs": [
        {
          "output_type": "stream",
          "name": "stdout",
          "text": [
            "Informações do Televisor:\n",
            " Fabricante: Samsung\n",
            " Modelo: Smart TV\n",
            " Canal Atual: 13\n",
            " Lista de Canais: [5, 13, 11]\n",
            " Volume: 50\n"
          ]
        }
      ]
    },
    {
      "cell_type": "markdown",
      "source": [
        "##>> Problema_6 - Código Alterado"
      ],
      "metadata": {
        "id": "-N_E6Ho2W3ib"
      }
    },
    {
      "cell_type": "code",
      "source": [
        "import time\n",
        "\n",
        "class Cronometro:\n",
        "    def __init__(self):\n",
        "        self.tempoInicial = 0\n",
        "        self.tempoFinal = 0\n",
        "\n",
        "    def iniciarCronometro(self):\n",
        "        print(\"Cronômetro iniciado.\")\n",
        "        self.tempoInicial = time.time()\n",
        "\n",
        "    def pararCronometro(self):\n",
        "        if self.tempoInicial == 0:\n",
        "            print(\"O cronômetro ainda não foi iniciado.\")\n",
        "            return\n",
        "\n",
        "        self.tempoFinal = time.time()\n",
        "        duracao = self.tempoFinal - self.tempoInicial\n",
        "        return duracao\n",
        "\n",
        "    def reiniciarCronometro(self):\n",
        "        self.tempoInicial = 0\n",
        "        self.tempoFinal = 0\n",
        "        print(\"Cronômetro reiniciado.\")\n",
        "\n",
        "    def __repr__(self):\n",
        "        return f'Cronômetro parado.\\n Tempo decorrido:: {duracao:.2f}'\n",
        "\n",
        "# Exemplo de uso da classe Cronometro\n",
        "cronometro = Cronometro()\n",
        "\n",
        "# Inicia o cronômetro\n",
        "cronometro.iniciarCronometro()\n",
        "\n",
        "# Faz o programa \"dormir\" por 5 segundos\n",
        "time.sleep(5)\n",
        "\n",
        "# Para o cronômetro e obtém a duração\n",
        "duracao = cronometro.pararCronometro()\n",
        "\n",
        "# Exibe o cronômetro\n",
        "print(cronometro)"
      ],
      "metadata": {
        "colab": {
          "base_uri": "https://localhost:8080/"
        },
        "id": "eI9kz-qaYUDO",
        "outputId": "0ed68043-da85-4ef0-b690-1a76b010c780"
      },
      "execution_count": null,
      "outputs": [
        {
          "output_type": "stream",
          "name": "stdout",
          "text": [
            "Cronômetro iniciado.\n",
            "Cronômetro parado.\n",
            " Tempo decorrido:: 5.00\n"
          ]
        }
      ]
    },
    {
      "cell_type": "markdown",
      "source": [
        "---\n",
        "## **Problema - 14**\n",
        "###     14.\tFaça uma classe **ContaVip** que difere da **ContaCorrente** por ter cheque especial (novo atributo) e é filha da classe **ContaCorrente**. Você precisa implementar os métodos para saque, transferência ou depósito?\n",
        "\n",
        "## **R= O ÚNICO MÉTODO A SER IMPLEMENTADO/REESCRITO É O SAQUE, CONFORME ABAIXO:**"
      ],
      "metadata": {
        "id": "4EmMPL85bns5"
      }
    },
    {
      "cell_type": "code",
      "source": [
        "class Conta_Vip(ContaCorrente):\n",
        "    def __init__(self, cliente, cheqEspecial=5000, saldo=0.0):\n",
        "        super().__init__(cliente, saldo)\n",
        "        self.cheqEspecial = cheqEspecial\n",
        "\n",
        "\n",
        "    def sacar(self, valor):\n",
        "        if 0 < valor <= self.saldo:\n",
        "            self.saldo -= valor\n",
        "            print(f\"Saque de R${valor} realizado com sucesso.\")\n",
        "        else:\n",
        "            saldoNegativo = self.cheqEspecial - valor\n",
        "            self.saldo = saldoNegativo\n",
        "            print(f'Saque realizado com sucesso!\\nInformativo: você entrou no Cheque Especial.')\n",
        "\n",
        "# Testando a classe ContaCorrente\n",
        "cliente_01 = Cliente(\"João\", \"454545\", \"jaj@gmail.com\")\n",
        "\n",
        "contaCliente_01 = Conta_Vip(cliente_01)\n",
        "\n",
        "print(\"=-=-= Deposito - Conta 01 =-=-=\")\n",
        "contaCliente_01.depositar(4000)\n",
        "\n",
        "print(\"\\n=-=-= Conta 01 - Saldo =-=-=\")\n",
        "contaCliente_01.consultarSaldo()\n",
        "contaCliente_01.sacar(7000)\n",
        "\n",
        "print(\"\\n=-=-= Conta 01 - Saldo =-=-=\")\n",
        "contaCliente_01.consultarSaldo()"
      ],
      "metadata": {
        "colab": {
          "base_uri": "https://localhost:8080/"
        },
        "id": "l2Zd6V1Eb25d",
        "outputId": "78c111e8-668e-4f7a-8cd8-7cf16474f25a"
      },
      "execution_count": 16,
      "outputs": [
        {
          "output_type": "stream",
          "name": "stdout",
          "text": [
            "=-=-= Deposito - Conta 01 =-=-=\n",
            "Depósito de R$4000 realizado com sucesso.\n",
            "\n",
            "=-=-= Conta 01 - Saldo =-=-=\n",
            "Saldo disponível: R$4000.0\n",
            "Saque realizado com sucesso!\n",
            "Informativo: você entrou no Cheque Especial.\n",
            "\n",
            "=-=-= Conta 01 - Saldo =-=-=\n",
            "Saldo disponível: R$-2000\n"
          ]
        }
      ]
    },
    {
      "cell_type": "markdown",
      "source": [
        "---\n",
        "## **Problema - 15**\n",
        "###     15.\tCrie uma classe **Quadrado**, filha da classe **Retangulo** do exercício 2."
      ],
      "metadata": {
        "id": "PtzDVoFWED5Z"
      }
    },
    {
      "cell_type": "code",
      "source": [
        "class Quadrado(Retangulo):\n",
        "    def __init__(self, lado_a, lado_b):\n",
        "        self.lado_a = lado_a\n",
        "        self.lado_b = lado_b\n",
        "\n",
        "#Passando os valores para calcular a area\n",
        "comp_lado_a = 5\n",
        "larg_lado_b = 5\n",
        "\n",
        "#Criando objeto da classe retângulo\n",
        "objQuadrado = Quadrado(comp_lado_a, larg_lado_b)\n",
        "\n",
        "#Calculando a área do retangulo\n",
        "area = objQuadrado.calcularArea()\n",
        "\n",
        "#Imprimindo a área do retangulo\n",
        "print(objQuadrado)"
      ],
      "metadata": {
        "colab": {
          "base_uri": "https://localhost:8080/"
        },
        "id": "m4R1xaT_EqIP",
        "outputId": "f760ecc3-d981-4b6b-9bdd-0a0080d9085d"
      },
      "execution_count": 26,
      "outputs": [
        {
          "output_type": "stream",
          "name": "stdout",
          "text": [
            "Área: 25\n"
          ]
        }
      ]
    },
    {
      "cell_type": "markdown",
      "source": [
        "# **Métodos e atributos estáticos**"
      ],
      "metadata": {
        "id": "RHu7q6W_H4RW"
      }
    },
    {
      "cell_type": "markdown",
      "source": [
        "---\n",
        "## 1.\tO que faz um método construtor? Crie uma classe Pessoa e defina seu construtor.\n",
        "\n",
        "### R= Um método construtor em programação orientada a objetos é um tipo especial de método dentro de uma classe que é chamado automaticamente quando uma instância (ou objeto) dessa classe é criada. Seu propósito principal é inicializar os atributos da instância com valores padrão ou com os valores fornecidos durante a criação do objeto."
      ],
      "metadata": {
        "id": "iFMyB_z4Ig65"
      }
    },
    {
      "cell_type": "code",
      "source": [
        "class Pessoa:\n",
        "    def __init__(self, nome, idade):\n",
        "        self.nome = nome\n",
        "        self.idade = idade\n",
        "\n",
        "    def __repr__(self):\n",
        "        return f'Infomações da pessoa:\\n Nome: {self.nome}\\n Idade: {self.idade}'\n",
        "\n",
        "nome = input('Qual o seu nome? ')\n",
        "idade = input('Qual a sua idade? ')\n",
        "\n",
        "objPessoa = Pessoa(nome, idade)\n",
        "\n",
        "print(objPessoa)"
      ],
      "metadata": {
        "colab": {
          "base_uri": "https://localhost:8080/"
        },
        "id": "M5a4cvULJXld",
        "outputId": "1e902a90-73a0-441f-9a8f-cdef11f10b0c"
      },
      "execution_count": 29,
      "outputs": [
        {
          "output_type": "stream",
          "name": "stdout",
          "text": [
            "Qual o seu nome? João Pedro\n",
            "Qual a sua idade? 22 Anos\n",
            "Infomações da pessoa:\n",
            " Nome: João Pedro\n",
            " Idade: 22 Anos\n"
          ]
        }
      ]
    },
    {
      "cell_type": "markdown",
      "source": [
        "---\n",
        "## 2.\tEscreva um programa que lê nome e idade de 5 pessoas e ao final informa quem é o mais novo, o mais velho e qual a média de idade. Faça o cálculo incluindo um método estático que leva em consideração um atributo estático com a lista de todas as pessoas."
      ],
      "metadata": {
        "id": "vPygaTQUK9LI"
      }
    },
    {
      "cell_type": "code",
      "source": [
        "class Pessoa:\n",
        "    todas_as_pessoas = []\n",
        "\n",
        "    def __init__(self, nome, idade):\n",
        "        self.nome = nome\n",
        "        self.idade = idade\n",
        "        Pessoa.todas_as_pessoas.append(self)\n",
        "\n",
        "    def __repr__(self):\n",
        "        return f'Infomações da pessoa:\\n Nome: {self.nome}\\n Idade: {self.idade}'\n",
        "\n",
        "    @staticmethod\n",
        "    def estatisticas():\n",
        "        idades = [pessoa.idade for pessoa in Pessoa.todas_as_pessoas]\n",
        "        media_idade = sum(idades) / len(idades)\n",
        "        mais_novo = min(Pessoa.todas_as_pessoas, key=lambda pessoa: pessoa.idade)\n",
        "        mais_velho = max(Pessoa.todas_as_pessoas, key=lambda pessoa: pessoa.idade)\n",
        "        return mais_novo, mais_velho, media_idade\n",
        "\n",
        "\n",
        "# Coletando informações das pessoas\n",
        "pessoas = []\n",
        "for i in range(1, 6):\n",
        "    print(f'Pessoa {i}')\n",
        "    nome = input('Qual o seu nome? ')\n",
        "    idade = int(input('Qual a sua idade? '))\n",
        "    pessoa = Pessoa(nome, idade)\n",
        "    pessoas.append(pessoa)\n",
        "\n",
        "# Obtendo estatísticas\n",
        "mais_novo, mais_velho, media_idade = Pessoa.estatisticas()\n",
        "\n",
        "# Exibindo resultados\n",
        "print(f'O mais novo é: {mais_novo.nome}, com {mais_novo.idade} anos.')\n",
        "print(f'O mais velho é: {mais_velho.nome}, com {mais_velho.idade} anos.')\n",
        "print(f'A média de idade é: {media_idade:.0f} anos.')"
      ],
      "metadata": {
        "colab": {
          "base_uri": "https://localhost:8080/"
        },
        "id": "vqWBV93NLa0C",
        "outputId": "5547419d-15d6-48c6-8838-c364dc5d0f03"
      },
      "execution_count": 43,
      "outputs": [
        {
          "output_type": "stream",
          "name": "stdout",
          "text": [
            "Pessoa 1\n",
            "Qual o seu nome? João\n",
            "Qual a sua idade? 22\n",
            "Pessoa 2\n",
            "Qual o seu nome? Pedro\n",
            "Qual a sua idade? 23\n",
            "Pessoa 3\n",
            "Qual o seu nome? Braga\n",
            "Qual a sua idade? 24\n",
            "Pessoa 4\n",
            "Qual o seu nome? DiCarvalho\n",
            "Qual a sua idade? 25\n",
            "Pessoa 5\n",
            "Qual o seu nome? João Pedro Braga DiCarvalho\n",
            "Qual a sua idade? 26\n",
            "O mais novo é: João, com 22 anos.\n",
            "O mais velho é: João Pedro Braga DiCarvalho, com 26 anos.\n",
            "A média de idade é: 24 anos.\n"
          ]
        }
      ]
    },
    {
      "cell_type": "markdown",
      "source": [
        "---\n",
        "## 3.\tEscreva um programa que lê nome, peso e altura de 5 pessoas, calcula o IMC de cada um e ao final informa se alguém está fora do peso ideal (o IMC ideal é entre 18,5 e 25). Novamente implemente um método estático para realizar este cálculo."
      ],
      "metadata": {
        "id": "tvcTAzmOPfVw"
      }
    },
    {
      "cell_type": "code",
      "source": [
        "class Pessoa:\n",
        "    def __init__(self, nome, peso, altura):\n",
        "        self.nome = nome\n",
        "        self.peso = peso\n",
        "        self.altura = altura\n",
        "\n",
        "    @staticmethod\n",
        "    def calcular_imc(peso, altura):\n",
        "        return peso / (altura ** 2)\n",
        "\n",
        "# Coletando informações das pessoas\n",
        "pessoas = []\n",
        "for i in range(1, 6):\n",
        "    print(f'===== Pessoa {i} =====')\n",
        "    nome = input('Qual o seu nome? ')\n",
        "    peso = float(input('Qual o seu peso em kg? '))\n",
        "    altura = float(input('Qual a sua altura em metros? '))\n",
        "    pessoa = Pessoa(nome, peso, altura)\n",
        "    pessoas.append(pessoa)\n",
        "\n",
        "# Verificando se alguém está fora do peso ideal\n",
        "print('===== Lista de Pessoas fora do pesso ideal =====')\n",
        "for pessoa in pessoas:\n",
        "    imc = Pessoa.calcular_imc(pessoa.peso, pessoa.altura)\n",
        "    if not 18.5 <= imc <= 25:\n",
        "        print(f'{pessoa.nome} está fora do peso ideal.')"
      ],
      "metadata": {
        "colab": {
          "base_uri": "https://localhost:8080/"
        },
        "id": "2j8x5eBTPmk-",
        "outputId": "da67c21d-e9e2-4ed3-f798-96fe83e21edb"
      },
      "execution_count": 48,
      "outputs": [
        {
          "output_type": "stream",
          "name": "stdout",
          "text": [
            "===== Pessoa 1 =====\n",
            "Qual o seu nome? João\n",
            "Qual o seu peso em kg? 80\n",
            "Qual a sua altura em metros? 1.80\n",
            "===== Pessoa 2 =====\n",
            "Qual o seu nome? Pedro\n",
            "Qual o seu peso em kg? 85\n",
            "Qual a sua altura em metros? 1.80\n",
            "===== Pessoa 3 =====\n",
            "Qual o seu nome? Braga\n",
            "Qual o seu peso em kg? 90\n",
            "Qual a sua altura em metros? 1.80\n",
            "===== Pessoa 4 =====\n",
            "Qual o seu nome? DiCarvalho\n",
            "Qual o seu peso em kg? 95\n",
            "Qual a sua altura em metros? 1.80\n",
            "===== Pessoa 5 =====\n",
            "Qual o seu nome? João Pedro Bragra Dicarvalho\n",
            "Qual o seu peso em kg? 89\n",
            "Qual a sua altura em metros? 1.80\n",
            "===== Lista de Pessoas fora do pesso ideal =====\n",
            "Pedro está fora do peso ideal.\n",
            "Braga está fora do peso ideal.\n",
            "DiCarvalho está fora do peso ideal.\n",
            "João Pedro Bragra Dicarvalho está fora do peso ideal.\n"
          ]
        }
      ]
    }
  ]
}