{
  "nbformat": 4,
  "nbformat_minor": 0,
  "metadata": {
    "colab": {
      "provenance": [],
      "authorship_tag": "ABX9TyOOPi/kQ5F2h4aHtT6qmxsb",
      "include_colab_link": true
    },
    "kernelspec": {
      "name": "python3",
      "display_name": "Python 3"
    },
    "language_info": {
      "name": "python"
    }
  },
  "cells": [
    {
      "cell_type": "markdown",
      "metadata": {
        "id": "view-in-github",
        "colab_type": "text"
      },
      "source": [
        "<a href=\"https://colab.research.google.com/github/jpdicarvalho/BSI-App-Barbearia/blob/main/Projeto_Elei%C3%A7%C3%B5es_de_Condom%C3%ADnio.ipynb\" target=\"_parent\"><img src=\"https://colab.research.google.com/assets/colab-badge.svg\" alt=\"Open In Colab\"/></a>"
      ]
    },
    {
      "cell_type": "markdown",
      "source": [
        "# **Projeto Eleição de Condomínio**\n",
        "# **Author: João Pedro Braga de Carvalho**\n",
        "---\n",
        "## **Documentação do Projeto: Organizando uma Eleição**\n",
        "Este documento descreve a estrutura e a funcionalidade do sistema eletrônico desenvolvido para auxiliar na votação do novo síndico em um condomínio.\n",
        "\n",
        "#Estrutura de Classes"
      ],
      "metadata": {
        "id": "1iknEAw-bH9x"
      }
    },
    {
      "cell_type": "markdown",
      "source": [
        "## Morador\n",
        "Representa cada pessoa que habita no condomínio.\n",
        "1. **Atributos**: nome, apartamento.\n",
        "2. **Métodos**:\n",
        "- **Construtor**: recebe opcionalmente um nome e um objeto Apartamento. Se não receber um nome, solicita através de input. Se não receber um objeto Apartamento, solicita o número do apartamento e cria o objeto.\n",
        "- **Votar**: recebe um objeto Urna e um número de candidato (opcional) e registra o voto na Urna."
      ],
      "metadata": {
        "id": "wz-J1N04dJuU"
      }
    },
    {
      "cell_type": "code",
      "source": [
        "class Morador():\n",
        "    def __init__(self, nome, num_apartamento):\n",
        "        self.nome = nome\n",
        "        self.num_apartamento = num_apartamento\n",
        "\n",
        "    def votar(self, urna, num_apartamento):\n",
        "        num_candidato_votado = input(\"\\nDigite o número do candidato em que deseja votar (ou digite 0 para sair): \")\n",
        "        if num_candidato_votado == '0':\n",
        "            return  # Encerra a função se o usuário digitar 0\n",
        "\n",
        "        num_candidato_votado = int(num_candidato_votado)  # Convertendo para inteiro\n",
        "\n",
        "        for apartamento in urna.listaApartamentos.values():\n",
        "            if 'Candidato' in apartamento:\n",
        "                if apartamento['numCandidatura'] == num_candidato_votado:\n",
        "                    apartamento['votosRecebidos'] += 1\n",
        "\n",
        "        quemVotou = urna.listaApartamentos[self.num_apartamento]\n",
        "        if not quemVotou['voto']:\n",
        "            quemVotou['voto'] = True\n",
        "            print(\"Voto registrado com sucesso!\")\n",
        "            return\n",
        "\n",
        "\n",
        "        print(\"Número de candidatura não encontrado. Por favor, tente novamente.\")"
      ],
      "metadata": {
        "id": "9BFJhpoiyVFd"
      },
      "execution_count": 5,
      "outputs": []
    },
    {
      "cell_type": "markdown",
      "source": [
        "## Candidato\n",
        "É um tipo especial de Morador.\n",
        "1. **Atributos**: número (identificação na Urna), contagem de votos.\n",
        "2. **Método**:\n",
        "- **Construtor**: inicializa com nome e apartamento do Morador e atribui 0 à contagem de votos.\n"
      ],
      "metadata": {
        "id": "fTiiZusqe6qF"
      }
    },
    {
      "cell_type": "code",
      "source": [
        "class Candidato(Morador):\n",
        "    def __init__(self, nome, num_apartamento, numCandidatura):\n",
        "        super().__init__(nome, num_apartamento)\n",
        "        self.numCandidatura = numCandidatura\n",
        "        self.votosRecebidos = 0"
      ],
      "metadata": {
        "id": "0mWF9hP9ffk0"
      },
      "execution_count": 6,
      "outputs": []
    },
    {
      "cell_type": "markdown",
      "source": [
        "# Apartamento\n",
        "Representa as unidades do prédio.\n",
        "1. **Atributos**: lista de moradores, status de voto.\n",
        "2. **Métodos**:\n",
        "- **Adicionar Morador**: adiciona um objeto Morador à lista.\n",
        "- **Visualizar Moradores**: exibe a lista de moradores.\n",
        "- **Atualizar Status de Voto**: marca o apartamento como votado."
      ],
      "metadata": {
        "id": "lAG5DTCofz5k"
      }
    },
    {
      "cell_type": "code",
      "source": [
        "class Apartamento():\n",
        "    def __init__(self, numApartamento):\n",
        "        self.numApartamento = numApartamento"
      ],
      "metadata": {
        "id": "0KuHsVaDg3zF"
      },
      "execution_count": null,
      "outputs": []
    }
  ]
}